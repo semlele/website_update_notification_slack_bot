{
 "cells": [
  {
   "cell_type": "code",
   "execution_count": 2,
   "metadata": {},
   "outputs": [],
   "source": [
    "import csv\n",
    "import os\n",
    "import sys\n",
    "import requests\n",
    "import slackweb\n",
    "import pandas as pd\n",
    "from bs4 import BeautifulSoup"
   ]
  },
  {
   "cell_type": "code",
   "execution_count": 47,
   "metadata": {},
   "outputs": [
    {
     "data": {
      "text/plain": [
       "['第11代Webフロントエンド黒帯が語る──私たちはこうして鍛えられ、エキスパートになった',\n",
       " 'https://about.yahoo.co.jp/hr/linotice/20220207.html']"
      ]
     },
     "execution_count": 47,
     "metadata": {},
     "output_type": "execute_result"
    }
   ],
   "source": [
    "def latest_scraping():\n",
    "    url = 'https://about.yahoo.co.jp/hr/linotice/'\n",
    "    r = requests.get(url)\n",
    "    soup = BeautifulSoup(r.text, 'html.parser')\n",
    "    latest_news = soup.find(class_='panel-horizontal')\n",
    "    latest_news_list = [\n",
    "    latest_news.find(class_='heading').text,\n",
    "    latest_news.a.get('href')\n",
    "]\n",
    "    return latest_news_list\n",
    "\n",
    "latest_news_list = latest_scraping()\n",
    "latest_news_list\n"
   ]
  },
  {
   "cell_type": "code",
   "execution_count": 48,
   "metadata": {},
   "outputs": [],
   "source": [
    "def output_csv(latest_news_list):\n",
    "    with open('last_log.csv', 'w', newline='',encoding='utf_8') as file:\n",
    "        headers = ['Title', 'URL']\n",
    "        writer = csv.writer(file)\n",
    "        writer.writerow(headers)\n",
    "        writer.writerow(latest_news_list)\n",
    "        \n",
    "output_csv(latest_news_list)"
   ]
  },
  {
   "cell_type": "code",
   "execution_count": 49,
   "metadata": {},
   "outputs": [
    {
     "data": {
      "text/plain": [
       "[['Title', 'URL'],\n",
       " ['第11代Webフロントエンド黒帯が語る──私たちはこうして鍛えられ、エキスパートになった',\n",
       "  'https://about.yahoo.co.jp/hr/linotice/20220207.html']]"
      ]
     },
     "execution_count": 49,
     "metadata": {},
     "output_type": "execute_result"
    }
   ],
   "source": [
    "def read_csv():\n",
    "    if not os.path.exists('last_log.csv'):\n",
    "        raise Exception('ファイルがありません。')\n",
    "    if os.path.getsize('last_log.csv') == 0:\n",
    "        raise Exception('ファイルの中身が空です。')\n",
    "    csv_list = pd.read_csv('last_log.csv', header=None).values.tolist()\n",
    "    return csv_list\n",
    "\n",
    "read_csv()"
   ]
  },
  {
   "cell_type": "code",
   "execution_count": 50,
   "metadata": {},
   "outputs": [
    {
     "ename": "NameError",
     "evalue": "name 'last_result' is not defined",
     "output_type": "error",
     "traceback": [
      "\u001b[0;31m---------------------------------------------------------------------------\u001b[0m",
      "\u001b[0;31mNameError\u001b[0m                                 Traceback (most recent call last)",
      "\u001b[0;32m/var/folders/45/lppkbl3s6753dl1nts554g640000gn/T/ipykernel_651/2449413376.py\u001b[0m in \u001b[0;36m<module>\u001b[0;34m\u001b[0m\n\u001b[1;32m      6\u001b[0m     \u001b[0;32mreturn\u001b[0m \u001b[0mreturn_list\u001b[0m\u001b[0;34m\u001b[0m\u001b[0;34m\u001b[0m\u001b[0m\n\u001b[1;32m      7\u001b[0m \u001b[0;34m\u001b[0m\u001b[0m\n\u001b[0;32m----> 8\u001b[0;31m \u001b[0mlist_diff\u001b[0m\u001b[0;34m(\u001b[0m\u001b[0mlatest_news_list\u001b[0m\u001b[0;34m,\u001b[0m \u001b[0mlast_result\u001b[0m\u001b[0;34m)\u001b[0m\u001b[0;34m\u001b[0m\u001b[0;34m\u001b[0m\u001b[0m\n\u001b[0m",
      "\u001b[0;31mNameError\u001b[0m: name 'last_result' is not defined"
     ]
    }
   ],
   "source": [
    "def list_diff(latest_news_list, last_result):\n",
    "    return_list = []\n",
    "    for tmp in latest_news_list:\n",
    "        if tmp not in last_result:\n",
    "            return_list.append(tmp)\n",
    "    return return_list\n",
    "\n",
    "list_diff(latest_news_list, last_result)\n"
   ]
  },
  {
   "cell_type": "code",
   "execution_count": null,
   "metadata": {},
   "outputs": [],
   "source": []
  },
  {
   "cell_type": "code",
   "execution_count": null,
   "metadata": {},
   "outputs": [],
   "source": []
  }
 ],
 "metadata": {
  "interpreter": {
   "hash": "018e698ad4ee76de1e6b03c52fd98408b1c1cfa7f830baaacef3ce0dee8f0a1b"
  },
  "kernelspec": {
   "display_name": "Python 3.9.7 64-bit ('3.9.7')",
   "language": "python",
   "name": "python3"
  },
  "language_info": {
   "codemirror_mode": {
    "name": "ipython",
    "version": 3
   },
   "file_extension": ".py",
   "mimetype": "text/x-python",
   "name": "python",
   "nbconvert_exporter": "python",
   "pygments_lexer": "ipython3",
   "version": "3.9.7"
  },
  "orig_nbformat": 4
 },
 "nbformat": 4,
 "nbformat_minor": 2
}
